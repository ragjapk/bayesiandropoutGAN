{
 "cells": [
  {
   "cell_type": "code",
   "execution_count": 12,
   "metadata": {},
   "outputs": [],
   "source": [
    "import tensorflow as tf\n",
    "from __future__ import division, print_function, absolute_import\n",
    "\n",
    "import matplotlib.pyplot as plt\n",
    "import numpy as np"
   ]
  },
  {
   "cell_type": "code",
   "execution_count": 13,
   "metadata": {},
   "outputs": [
    {
     "name": "stdout",
     "output_type": "stream",
     "text": [
      "Extracting MNIST_data\\train-images-idx3-ubyte.gz\n",
      "Extracting MNIST_data\\train-labels-idx1-ubyte.gz\n",
      "Extracting MNIST_data\\t10k-images-idx3-ubyte.gz\n",
      "Extracting MNIST_data\\t10k-labels-idx1-ubyte.gz\n"
     ]
    }
   ],
   "source": [
    "from tensorflow.examples.tutorials.mnist import input_data\n",
    "mnist = input_data.read_data_sets(\"MNIST_data\", one_hot=True) "
   ]
  },
  {
   "cell_type": "code",
   "execution_count": 14,
   "metadata": {
    "collapsed": true
   },
   "outputs": [],
   "source": [
    "#np.random.seed(222) \n",
    "#tf.set_random_seed(222)"
   ]
  },
  {
   "cell_type": "code",
   "execution_count": 15,
   "metadata": {
    "collapsed": true
   },
   "outputs": [],
   "source": [
    "num_steps=999000 #No of times generator/discriminator is updated before it moves onto discriminator/generator?\n",
    "learning_rate=0.0002\n",
    "batch_size=128 #So that you don't have to load all your data at once\n",
    "#Network Parameters\n",
    "image_dim=784\n",
    "gen_hnode_dim=1000\n",
    "dis_hnode_dim=1000\n",
    "noise_dim=100\n",
    "\n",
    "#Initializing the weight parameters:\n",
    "# A custom initialization (see Xavier Glorot init)\n",
    "def glorot_init(shape):\n",
    "    return tf.random_normal(shape=shape, stddev=1. / tf.sqrt(shape[0] / 2.))\n",
    "\n",
    "drop_out_rate=tf.placeholder(tf.float32)\n",
    "gen_input = tf.placeholder(tf.float32, shape=[None, noise_dim], name='input_noise')\n",
    "disc_input = tf.placeholder(tf.float32, shape=[None, image_dim], name='disc_input')"
   ]
  },
  {
   "cell_type": "code",
   "execution_count": 16,
   "metadata": {
    "collapsed": true
   },
   "outputs": [],
   "source": [
    "#Defining in a way to avoid extra code\n",
    "\n",
    "weights={'gen_ilayer':tf.Variable(glorot_init([noise_dim,gen_hnode_dim])),\n",
    "         'gen_olayer':tf.Variable(glorot_init([gen_hnode_dim,image_dim])),\n",
    "         'dis_ilayer':tf.Variable(glorot_init([image_dim,dis_hnode_dim])),\n",
    "         'dis_olayer':tf.Variable(glorot_init([dis_hnode_dim,1]))}\n",
    "biases={'gen_ilayer':tf.Variable(tf.zeros([gen_hnode_dim])),\n",
    "         'gen_olayer':tf.Variable(tf.zeros([image_dim])),\n",
    "         'dis_ilayer':tf.Variable(tf.zeros([dis_hnode_dim])),\n",
    "         'dis_olayer':tf.Variable(tf.zeros([1]))}"
   ]
  },
  {
   "cell_type": "code",
   "execution_count": 17,
   "metadata": {
    "collapsed": true
   },
   "outputs": [],
   "source": [
    "def generator(data,dropout_rate):       \n",
    "    l1=tf.add(tf.matmul(data,weights['gen_ilayer']),biases['gen_ilayer'])\n",
    "    l1=tf.nn.relu(l1)\n",
    "    #l1 = tf.layers.dropout(l1, dropout_rate, training=True)\n",
    "    output=tf.add(tf.matmul(l1,weights['gen_olayer']),biases['gen_olayer'])\n",
    "    output = tf.nn.tanh(output)\n",
    "    return output\n",
    "    "
   ]
  },
  {
   "cell_type": "code",
   "execution_count": 18,
   "metadata": {
    "collapsed": true
   },
   "outputs": [],
   "source": [
    "def discriminator(data,dropout_rate,seed):\n",
    "    l1=tf.add(tf.matmul(data,weights['dis_ilayer']),biases['dis_ilayer'])\n",
    "    l1=tf.nn.relu(l1)\n",
    "    #l1 = tf.layers.dropout(l1, dropout_rate, seed=seed)\n",
    "    output=tf.add(tf.matmul(l1,weights['dis_olayer']),biases['dis_olayer'])\n",
    "    output = tf.nn.sigmoid(output)\n",
    "    return output"
   ]
  },
  {
   "cell_type": "code",
   "execution_count": 19,
   "metadata": {
    "collapsed": true
   },
   "outputs": [],
   "source": [
    "gen_sample=generator(gen_input,drop_out_rate)\n",
    "\n",
    "seed=np.random.randint(5,1000)\n",
    "disc_real=discriminator(disc_input,drop_out_rate,seed)\n",
    "disc_fake=discriminator(gen_sample,drop_out_rate,seed)\n",
    "\n",
    "beta=0.01\n",
    "eps=0.001\n",
    "# Build Loss\n",
    "gen_loss = -tf.reduce_mean(tf.log(disc_fake+eps))\n",
    "disc_loss = -tf.reduce_mean(tf.log(disc_real+eps) + tf.log(1. - disc_fake+eps))\n",
    "\n",
    "regularizers_gen = tf.nn.l2_loss(weights['gen_olayer']) + tf.nn.l2_loss(weights['gen_ilayer'])\n",
    "regularizers_dis = tf.nn.l2_loss(weights['dis_olayer']) + tf.nn.l2_loss(weights['dis_ilayer'])\n",
    "\n",
    "gen_loss = tf.reduce_mean(gen_loss + beta * regularizers_gen)\n",
    "disc_loss = tf.reduce_mean(disc_loss + beta * regularizers_dis)\n",
    "\n",
    "#Building optimizer for generator and discriminator\n",
    "optimizer_gen = tf.train.AdamOptimizer(learning_rate=learning_rate)\n",
    "optimizer_disc = tf.train.AdamOptimizer(learning_rate=learning_rate)\n",
    "\n",
    "generator_var=[weights['gen_ilayer'],weights['gen_olayer'],\n",
    "               biases['gen_ilayer'],biases['gen_olayer']]\n",
    "\n",
    "discriminator_var=[weights['dis_ilayer'],weights['dis_olayer'],\n",
    "               biases['dis_ilayer'],biases['dis_olayer']]\n",
    "train_gen=optimizer_gen.minimize(gen_loss,var_list=generator_var)\n",
    "train_dis=optimizer_disc.minimize(disc_loss,var_list=discriminator_var)\n",
    "\n",
    "init = tf.global_variables_initializer()"
   ]
  },
  {
   "cell_type": "code",
   "execution_count": null,
   "metadata": {
    "collapsed": true
   },
   "outputs": [],
   "source": [
    "import matplotlib.gridspec as gridspec\n",
    "def plot(samples):\n",
    "    fig = plt.figure(figsize=(4, 4))\n",
    "    gs = gridspec.GridSpec(4, 4)\n",
    "    gs.update(wspace=0.05, hspace=0.05)\n",
    "\n",
    "    for i, sample in enumerate(samples):\n",
    "        ax = plt.subplot(gs[i])\n",
    "        plt.axis('off')\n",
    "        ax.set_xticklabels([])\n",
    "        ax.set_yticklabels([])\n",
    "        ax.set_aspect('equal')\n",
    "        plt.imshow(sample.reshape(28, 28), cmap='Greys_r')\n",
    "\n",
    "    return fig"
   ]
  },
  {
   "cell_type": "code",
   "execution_count": null,
   "metadata": {
    "scrolled": true
   },
   "outputs": [
    {
     "name": "stdout",
     "output_type": "stream",
     "text": [
      "Step 0: Generator Loss: 18.990084, Discriminator Loss: 12.676548\n"
     ]
    },
    {
     "data": {
      "image/png": "[encoded data removed]",
      "text/plain": [
       "<Figure size 288x288 with 4 Axes>"
      ]
     },
     "metadata": {},
     "output_type": "display_data"
    },
    {
     "name": "stdout",
     "output_type": "stream",
     "text": [
      "Step 1: Generator Loss: 18.468573, Discriminator Loss: 12.224304\n"
     ]
    },
    {
     "data": {
      "image/png": "[encoded data removed]",
      "text/plain": [
       "<Figure size 288x288 with 4 Axes>"
      ]
     },
     "metadata": {},
     "output_type": "display_data"
    },
    {
     "name": "stdout",
     "output_type": "stream",
     "text": [
      "Step 4000: Generator Loss: 5.587691, Discriminator Loss: 0.418928\n"
     ]
    },
    {
     "data": {
      "image/png": "[encoded data removed]",
      "text/plain": [
       "<Figure size 288x288 with 4 Axes>"
      ]
     },
     "metadata": {},
     "output_type": "display_data"
    },
    {
     "name": "stdout",
     "output_type": "stream",
     "text": [
      "Step 8000: Generator Loss: 4.397819, Discriminator Loss: 0.708994\n"
     ]
    },
    {
     "data": {
      "image/png": "[encoded data removed]",
      "text/plain": [
       "<Figure size 288x288 with 4 Axes>"
      ]
     },
     "metadata": {},
     "output_type": "display_data"
    },
    {
     "name": "stdout",
     "output_type": "stream",
     "text": [
      "Step 12000: Generator Loss: 3.744725, Discriminator Loss: 0.737753\n"
     ]
    },
    {
     "data": {
      "image/png": "[encoded data removed]",
      "text/plain": [
       "<Figure size 288x288 with 4 Axes>"
      ]
     },
     "metadata": {},
     "output_type": "display_data"
    }
   ],
   "source": [
    "config = tf.ConfigProto(device_count = {'GPU': 1})\n",
    "sess = tf.Session(config=config)\n",
    "\n",
    "#with tf.Session(config=tf.ConfigProto(log_device_placement=True)) as sess:\n",
    "sess.run(init)\n",
    "for i in range(num_steps):\n",
    "    batch_x, _ = mnist.train.next_batch(batch_size)\n",
    "    batch_x = batch_x * 2. - 1.\n",
    "    z = np.random.normal(0., 1., size=[batch_size, noise_dim])\n",
    "    _, gl = sess.run([train_gen,gen_loss], feed_dict={gen_input:z, drop_out_rate:0.9})\n",
    "    _, dl = sess.run([train_dis,disc_loss],feed_dict={disc_input: batch_x, gen_input:z, drop_out_rate:0.9})\n",
    "    if i % 4000 == 0 or i == 1:\n",
    "        print('Step %i: Generator Loss: %f, Discriminator Loss: %f' % (i, gl, dl))\n",
    "        z=np.random.normal(0, 1., size=[4, noise_dim])\n",
    "        samples = sess.run(gen_sample, feed_dict={gen_input: z,drop_out_rate:0.9})\n",
    "        fig = plot(samples)\n",
    "        plt.show()"
   ]
  },
  {
   "cell_type": "code",
   "execution_count": null,
   "metadata": {},
   "outputs": [],
   "source": [
    "n = 9\n",
    "averaging_over=10\n",
    "arr=[]\n",
    "canvas = np.empty((28 * n, 28 * n))\n",
    "canvas1 = np.empty((averaging_over,28 * n, 28 * n))\n",
    "\n",
    "for i in range(n):\n",
    "    arr=[]\n",
    "    z = np.random.normal(0., 1., size=[n, noise_dim])\n",
    "    #print(z)\n",
    "    g = sess.run(gen_sample, feed_dict={gen_input: z,drop_out_rate:0.9})\n",
    "    g = (g + 1.) / 2.\n",
    "    for j in range(averaging_over):\n",
    "        f = sess.run(gen_sample, feed_dict={gen_input: z,drop_out_rate:0.9})\n",
    "        f = (f + 1.) / 2.\n",
    "        arr.append(f)\n",
    "        g+= f\n",
    "    g=g/11\n",
    "    for j in range(n):\n",
    "        canvas[i * 28:(i + 1) * 28, j * 28:(j + 1) * 28] = g[j].reshape([28, 28]) \n",
    "\n",
    "    for k in range(averaging_over):\n",
    "        a=arr[k]\n",
    "        for j in range(n):\n",
    "            canvas1[k,i * 28:(i + 1) * 28, j * 28:(j + 1) * 28] = a[j].reshape([28, 28])    \n",
    "            \n",
    "plt.figure(figsize=(n, n))\n",
    "plt.imshow(canvas1[7], origin=\"upper\", cmap=\"gray\")\n",
    "plt.imsave('mnist_mcdropout_w1.png',canvas,cmap=\"gray\")\n",
    "\n",
    "for k in range(averaging_over):\n",
    "    plt.imsave('mnist_mcdropout_{}.png'.format(k),canvas1[k],cmap=\"gray\")\n",
    "\n",
    "plt.show()"
   ]
  },
  {
   "cell_type": "code",
   "execution_count": null,
   "metadata": {
    "collapsed": true
   },
   "outputs": [],
   "source": []
  }
 ],
 "metadata": {
  "kernelspec": {
   "display_name": "Python 3",
   "language": "python",
   "name": "python3"
  },
  "language_info": {
   "codemirror_mode": {
    "name": "ipython",
    "version": 3
   },
   "file_extension": ".py",
   "mimetype": "text/x-python",
   "name": "python",
   "nbconvert_exporter": "python",
   "pygments_lexer": "ipython3",
   "version": "3.5.2"
  }
 },
 "nbformat": 4,
 "nbformat_minor": 2
}
